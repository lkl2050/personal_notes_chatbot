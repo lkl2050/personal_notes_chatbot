{
 "cells": [
  {
   "cell_type": "code",
   "execution_count": 1,
   "metadata": {},
   "outputs": [],
   "source": [
    "from pathlib import Path\n",
    "import os\n",
    "import re\n",
    "from typing import List\n",
    "\n",
    "from llama_index.core import (\n",
    "    VectorStoreIndex,\n",
    "    Settings,\n",
    "    Document\n",
    ")\n",
    "from llama_index.core import (\n",
    "    VectorStoreIndex,\n",
    "    Settings,\n",
    "    Document\n",
    ")\n",
    "from llama_index.core.prompts import PromptTemplate\n",
    "from llama_index.core.chat_engine import SimpleChatEngine\n",
    "from llama_index.core.prompts import PromptTemplate, MessageRole\n",
    "\n",
    "from llama_index.llms.ollama import Ollama\n",
    "from llama_index.embeddings.huggingface import HuggingFaceEmbedding\n",
    "from llama_index.core.node_parser import SentenceSplitter\n",
    "from llama_index.core.readers.base import BaseReader\n",
    "from llama_index.readers.file.markdown import MarkdownReader\n",
    "\n",
    "from functools import lru_cache\n",
    "\n",
    "import numpy as np\n",
    "from sklearn.metrics.pairwise import cosine_similarity\n",
    "from llama_index.core.prompts import ChatMessage, MessageRole\n",
    "import logging\n",
    "\n",
    "from obsidian_bot_utils import (\n",
    "    MyObsidianReader,\n",
    "    ObsidianProcessor,\n",
    "    PersonalObsidianChat\n",
    ")"
   ]
  },
  {
   "cell_type": "code",
   "execution_count": null,
   "metadata": {},
   "outputs": [],
   "source": [
    "class PersonalInsightAgent:\n",
    "    def __init__(self, obsidian_chat: PersonalObsidianChat):\n",
    "        self.obsidian_chat = obsidian_chat\n",
    "        self.memory_cache = {}\n",
    "\n",
    "    def analyze_pattern(self, topic: str):\n",
    "        \"\"\"Analyze patterns about specific topics over time\"\"\"\n",
    "        search_results = self.obsidian_chat.search_notes(topic)\n",
    "        timeline = self._organize_by_time(search_results)\n",
    "        return self._analyze_changes(timeline)\n",
    "\n",
    "    def daily_reflection(self, date: str):\n",
    "        \"\"\"Connect today's diary with past relevant entries\"\"\"\n",
    "        current_entry = self._get_daily_entry(date)\n",
    "        related_entries = self._find_related_past_entries(current_entry)\n",
    "        return self._synthesize_insights(current_entry, related_entries)\n",
    "\n",
    "    def topic_explorer(self, topic: str):\n",
    "        \"\"\"Deep dive into my thought about topics\"\"\"\n",
    "        direct_mentions = self.obsidian_chat.search_notes(topic)\n",
    "        related_concepts = self._find_related_concepts(topic)\n",
    "        return self._build_topic_map(direct_mentions, related_concepts)"
   ]
  },
  {
   "cell_type": "code",
   "execution_count": null,
   "metadata": {},
   "outputs": [],
   "source": [
    "agent = PersonalInsightAgent(obsidian_chat)\n",
    "\n",
    "# Analyze how you've written about \"machine learning\"\n",
    "patterns = agent.analyze_pattern(\"machine learning\")\n",
    "\n",
    "# Get insights connecting today's diary with past entries\n",
    "reflection = agent.daily_reflection(\"2025-02-20\")\n",
    "\n",
    "# Explore everything related to a topic\n",
    "topic_map = agent.topic_explorer(\"neural networks\")"
   ]
  },
  {
   "cell_type": "code",
   "execution_count": null,
   "metadata": {},
   "outputs": [],
   "source": [
    "def recommend_connections(self, current_note: str):\n",
    "    \"\"\"Suggest relevant past notes to current writing\"\"\"\n",
    "    semantic_matches = self._find_semantic_matches(current_note)\n",
    "    temporal_matches = self._find_temporal_patterns(current_note)\n",
    "    return self._rank_recommendations(semantic_matches, temporal_matches)\n",
    "\n",
    "def generate_summary(self, timeframe: str):\n",
    "    \"\"\"Generate periodic summaries of your writings\"\"\"\n",
    "    entries = self._get_entries_in_timeframe(timeframe)\n",
    "    themes = self._extract_key_themes(entries)\n",
    "    return self._create_thematic_summary(themes)"
   ]
  }
 ],
 "metadata": {
  "kernelspec": {
   "display_name": "py39",
   "language": "python",
   "name": "python3"
  },
  "language_info": {
   "codemirror_mode": {
    "name": "ipython",
    "version": 3
   },
   "file_extension": ".py",
   "mimetype": "text/x-python",
   "name": "python",
   "nbconvert_exporter": "python",
   "pygments_lexer": "ipython3",
   "version": "3.9.10"
  }
 },
 "nbformat": 4,
 "nbformat_minor": 2
}
